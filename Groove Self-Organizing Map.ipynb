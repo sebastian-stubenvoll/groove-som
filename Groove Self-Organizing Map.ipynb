{
 "cells": [
  {
   "cell_type": "markdown",
   "id": "786c4672",
   "metadata": {},
   "source": [
    "# Preparing the data\n",
    "\n",
    "The exported E.S.R.A. data is stored under the relative path `./raw_data/`. This data is referenced in YAML files, located under `./datasets/`.These YAML files store the track title and artist, as well as the filename of the corresponding E.S.R.A. export, the length of the track and a list of segments (format m\\:ss-m\\:ss). This list is used to choose only certain STFT segments whilst excluding others. "
   ]
  },
  {
   "cell_type": "markdown",
   "id": "2c4e03e1",
   "metadata": {},
   "source": [
    "## Settings\n",
    "\n",
    "+ **selected_dataset: str/None** – Select a dataset.yaml file by name. If set to None, all files will be iterated over.\n",
    "+ **selected_features: \\[str\\]** – Features to be included in the aggregated data."
   ]
  },
  {
   "cell_type": "code",
   "execution_count": 1,
   "id": "ecf3af4b",
   "metadata": {},
   "outputs": [],
   "source": [
    "selected_dataset = 'all_data.yaml'\n",
    "selected_features = ['centroid', 'spread', 'skewness', 'kurtosis']\n",
    "aggregation_stepsize = 1"
   ]
  },
  {
   "cell_type": "markdown",
   "id": "212547cd",
   "metadata": {},
   "source": [
    "## Importing required modules\n",
    "\n",
    "Some of the required modules for this section don't come with the standard python installation. These need to either be installed manually or can be obtained by running `pipenv install` in the root directory of this repository. Naturally this requires a working `pipenv` installation. Remember to run jupyter from within the virtual environment if you are using `pipenv`."
   ]
  },
  {
   "cell_type": "code",
   "execution_count": 2,
   "id": "4b2f9466",
   "metadata": {
    "scrolled": true
   },
   "outputs": [],
   "source": [
    "from os import listdir\n",
    "from lib.organise import SongData\n",
    "import yaml\n",
    "import pandas as pd\n",
    "import numpy as np"
   ]
  },
  {
   "cell_type": "markdown",
   "id": "df4ef857",
   "metadata": {},
   "source": [
    "## Obtain dataset YAML files"
   ]
  },
  {
   "cell_type": "code",
   "execution_count": 3,
   "id": "d8d374fe",
   "metadata": {},
   "outputs": [
    {
     "data": {
      "text/plain": [
       "['all_data.yaml']"
      ]
     },
     "execution_count": 3,
     "metadata": {},
     "output_type": "execute_result"
    }
   ],
   "source": [
    "dataset_files = [ f for f in listdir('./datasets') if f.endswith('yaml') ]\n",
    "dataset_files"
   ]
  },
  {
   "cell_type": "markdown",
   "id": "33fdb9cb",
   "metadata": {},
   "source": [
    "## Parse dataset files and insert them into a dict\n",
    "\n",
    "If `selected_dataset` isn't set to None, all but the specificed data will be discarded."
   ]
  },
  {
   "cell_type": "code",
   "execution_count": 4,
   "id": "5ea77975",
   "metadata": {},
   "outputs": [
    {
     "name": "stdout",
     "output_type": "stream",
     "text": [
      "'all_data.yaml'\n"
     ]
    },
    {
     "data": {
      "text/plain": [
       "dict_keys(['all_data'])"
      ]
     },
     "execution_count": 4,
     "metadata": {},
     "output_type": "execute_result"
    }
   ],
   "source": [
    "datasets = dict()\n",
    "\n",
    "for fname in dataset_files:\n",
    "    with open(f'./datasets/{fname}', 'r') as f:\n",
    "        try:\n",
    "            datasets[fname[:-5]] = yaml.safe_load(f)\n",
    "        except yaml.YAMLError as exc:\n",
    "            print(exc)\n",
    "            \n",
    "if selected_dataset != None:\n",
    "    try:\n",
    "        datasets = {selected_dataset: datasets[selected_dataset]}\n",
    "    except KeyError as exc:\n",
    "        print(exc)\n",
    "        \n",
    "datasets.keys()"
   ]
  },
  {
   "cell_type": "markdown",
   "id": "1247026b",
   "metadata": {},
   "source": [
    "## Iterate over datasets and organise it into SongData instances\n",
    "\n",
    "This will populate `sorted_data` with key-value-pairs of the dataset.yaml filename and a `SongData` instance. All the metadata specified in the YAML file can be accessed via this instance's properties, as well as the actual E.S.R.A. data under its own `data` property. "
   ]
  },
  {
   "cell_type": "code",
   "execution_count": 5,
   "id": "54a13982",
   "metadata": {},
   "outputs": [],
   "source": [
    "sorted_data = dict()\n",
    "\n",
    "for dname, values in datasets.items():\n",
    "    sorted_data[dname] = list()\n",
    "    for song in values['data']:\n",
    "        sorted_data[dname].append(SongData(song))\n",
    "        \n",
    "#The original ESRA data can now be accessed like this:\n",
    "#sorted_data['all_data'][0].data"
   ]
  },
  {
   "cell_type": "markdown",
   "id": "dd2ab0f3",
   "metadata": {},
   "source": [
    "## Aggregate over time and filter features\n",
    "\n",
    "This is achieved calling the `filter`and `aggregate` methods on each `SongData` instance. This modifies the data property and is hence a destructive operation. The aggregate method takes only the slices of STFT data that correspond to the segments specified in the YAML data. If the segments field was set to `null` all data is aggregated."
   ]
  },
  {
   "cell_type": "code",
   "execution_count": 6,
   "id": "295c5dfa",
   "metadata": {},
   "outputs": [],
   "source": [
    "for dname, values in sorted_data.items():\n",
    "    for song in values:\n",
    "        song.filter(selected_features)\n",
    "        song.aggregate(stepsize=5, method='mean')"
   ]
  },
  {
   "cell_type": "markdown",
   "id": "59aface0",
   "metadata": {},
   "source": [
    "## Combine each piece of aggregated data into a feature matrix"
   ]
  },
  {
   "cell_type": "code",
   "execution_count": 7,
   "id": "1cc99840",
   "metadata": {},
   "outputs": [
    {
     "data": {
      "text/html": [
       "<div>\n",
       "<style scoped>\n",
       "    .dataframe tbody tr th:only-of-type {\n",
       "        vertical-align: middle;\n",
       "    }\n",
       "\n",
       "    .dataframe tbody tr th {\n",
       "        vertical-align: top;\n",
       "    }\n",
       "\n",
       "    .dataframe thead th {\n",
       "        text-align: right;\n",
       "    }\n",
       "</style>\n",
       "<table border=\"1\" class=\"dataframe\">\n",
       "  <thead>\n",
       "    <tr style=\"text-align: right;\">\n",
       "      <th></th>\n",
       "      <th>centroid</th>\n",
       "      <th>spread</th>\n",
       "      <th>skewness</th>\n",
       "      <th>kurtosis</th>\n",
       "    </tr>\n",
       "  </thead>\n",
       "  <tbody>\n",
       "    <tr>\n",
       "      <th>JPEGMAFIA – Free The Frail (feat. Helena Deland)</th>\n",
       "      <td>1151.328223</td>\n",
       "      <td>1400.576140</td>\n",
       "      <td>3.991292</td>\n",
       "      <td>34.037649</td>\n",
       "    </tr>\n",
       "    <tr>\n",
       "      <th>Noname – Dibby Bop Feat. Raury &amp; Cam O'bi</th>\n",
       "      <td>813.039296</td>\n",
       "      <td>863.099160</td>\n",
       "      <td>8.583391</td>\n",
       "      <td>244.944719</td>\n",
       "    </tr>\n",
       "    <tr>\n",
       "      <th>Denzel Curry – Walkin</th>\n",
       "      <td>1098.552952</td>\n",
       "      <td>1437.261678</td>\n",
       "      <td>3.974136</td>\n",
       "      <td>30.944575</td>\n",
       "    </tr>\n",
       "    <tr>\n",
       "      <th>Noname – Casked Pretty</th>\n",
       "      <td>923.051036</td>\n",
       "      <td>831.996497</td>\n",
       "      <td>5.321054</td>\n",
       "      <td>85.143668</td>\n",
       "    </tr>\n",
       "    <tr>\n",
       "      <th>Noname – Self</th>\n",
       "      <td>731.728129</td>\n",
       "      <td>810.082647</td>\n",
       "      <td>7.961078</td>\n",
       "      <td>153.699446</td>\n",
       "    </tr>\n",
       "    <tr>\n",
       "      <th>Noname – Blackxploitation</th>\n",
       "      <td>958.932786</td>\n",
       "      <td>1350.738093</td>\n",
       "      <td>4.214384</td>\n",
       "      <td>40.566667</td>\n",
       "    </tr>\n",
       "    <tr>\n",
       "      <th>JPEGMAFIA – PTSD</th>\n",
       "      <td>1460.567144</td>\n",
       "      <td>1414.577962</td>\n",
       "      <td>4.117518</td>\n",
       "      <td>53.091142</td>\n",
       "    </tr>\n",
       "    <tr>\n",
       "      <th>JPEGMAFIA – 1539 N. Calvert</th>\n",
       "      <td>776.172090</td>\n",
       "      <td>883.643024</td>\n",
       "      <td>5.164384</td>\n",
       "      <td>66.164594</td>\n",
       "    </tr>\n",
       "    <tr>\n",
       "      <th>Run The Jewels – Close Your Eyes (And Count to F-k)</th>\n",
       "      <td>1076.196504</td>\n",
       "      <td>1276.074753</td>\n",
       "      <td>3.324950</td>\n",
       "      <td>21.080504</td>\n",
       "    </tr>\n",
       "    <tr>\n",
       "      <th>clipping. – Story 7</th>\n",
       "      <td>1728.963527</td>\n",
       "      <td>1503.860374</td>\n",
       "      <td>1.964701</td>\n",
       "      <td>10.906599</td>\n",
       "    </tr>\n",
       "    <tr>\n",
       "      <th>clipping. – La Mala Ordina (with The Rita) (feat. Elcamino &amp; Benny The Butcher)</th>\n",
       "      <td>1143.622370</td>\n",
       "      <td>1300.790668</td>\n",
       "      <td>3.234246</td>\n",
       "      <td>20.777999</td>\n",
       "    </tr>\n",
       "    <tr>\n",
       "      <th>Rural Internet – huh??</th>\n",
       "      <td>1072.958463</td>\n",
       "      <td>1163.578642</td>\n",
       "      <td>3.802347</td>\n",
       "      <td>34.881112</td>\n",
       "    </tr>\n",
       "    <tr>\n",
       "      <th>Rural Internet – BRAINWORMS</th>\n",
       "      <td>1211.833961</td>\n",
       "      <td>1644.033984</td>\n",
       "      <td>2.894566</td>\n",
       "      <td>16.369814</td>\n",
       "    </tr>\n",
       "    <tr>\n",
       "      <th>Bruiser Wolf – Use Me (I'm Dope) (prod. Raphy)</th>\n",
       "      <td>984.949539</td>\n",
       "      <td>1582.890907</td>\n",
       "      <td>3.377914</td>\n",
       "      <td>22.341434</td>\n",
       "    </tr>\n",
       "    <tr>\n",
       "      <th>Bruiser Wolf – Thank God ft. Apropos (prod. Raphy)</th>\n",
       "      <td>767.333982</td>\n",
       "      <td>1053.253392</td>\n",
       "      <td>3.813976</td>\n",
       "      <td>26.165323</td>\n",
       "    </tr>\n",
       "    <tr>\n",
       "      <th>Bruiser Wolf – Chess Move$ (prod. Raphy)</th>\n",
       "      <td>953.365488</td>\n",
       "      <td>1127.061161</td>\n",
       "      <td>3.116136</td>\n",
       "      <td>20.584186</td>\n",
       "    </tr>\n",
       "    <tr>\n",
       "      <th>JPEGMAFIA – REBOUND! (ft. DATPIFFMAFIA)</th>\n",
       "      <td>1254.547919</td>\n",
       "      <td>1265.830769</td>\n",
       "      <td>5.114497</td>\n",
       "      <td>62.459028</td>\n",
       "    </tr>\n",
       "    <tr>\n",
       "      <th>JPEGMAFIA – Williamsburg</th>\n",
       "      <td>1241.061570</td>\n",
       "      <td>1085.039014</td>\n",
       "      <td>3.999026</td>\n",
       "      <td>122.578743</td>\n",
       "    </tr>\n",
       "    <tr>\n",
       "      <th>Bruiser Wolf – I'm A Instrument ft. Danny Brown (prod. Raphy)</th>\n",
       "      <td>1388.718598</td>\n",
       "      <td>1328.598824</td>\n",
       "      <td>3.056751</td>\n",
       "      <td>24.584598</td>\n",
       "    </tr>\n",
       "    <tr>\n",
       "      <th>Bruiser Wolf – Middle Men ft. Fat Ray (prod. Raphy)</th>\n",
       "      <td>766.491126</td>\n",
       "      <td>1128.788507</td>\n",
       "      <td>3.755727</td>\n",
       "      <td>25.796319</td>\n",
       "    </tr>\n",
       "    <tr>\n",
       "      <th>Bruiser Wolf – Momma Was a Dopefiend ft. Apropos (prod. Knxwledge)</th>\n",
       "      <td>626.966828</td>\n",
       "      <td>690.145860</td>\n",
       "      <td>5.844397</td>\n",
       "      <td>73.005161</td>\n",
       "    </tr>\n",
       "    <tr>\n",
       "      <th>clipping. – Blood of the Fang</th>\n",
       "      <td>823.427406</td>\n",
       "      <td>1140.605893</td>\n",
       "      <td>4.137844</td>\n",
       "      <td>30.635945</td>\n",
       "    </tr>\n",
       "    <tr>\n",
       "      <th>Adé Hakim – the man I want to be (and double)</th>\n",
       "      <td>1399.069640</td>\n",
       "      <td>1338.168499</td>\n",
       "      <td>4.214014</td>\n",
       "      <td>47.410712</td>\n",
       "    </tr>\n",
       "    <tr>\n",
       "      <th>Adé Hakim – professor hakim (6press would never)</th>\n",
       "      <td>824.400639</td>\n",
       "      <td>983.202039</td>\n",
       "      <td>4.216324</td>\n",
       "      <td>33.744137</td>\n",
       "    </tr>\n",
       "    <tr>\n",
       "      <th>Adé Hakim – hood rich up in the projects</th>\n",
       "      <td>812.541391</td>\n",
       "      <td>796.528428</td>\n",
       "      <td>5.657060</td>\n",
       "      <td>100.448809</td>\n",
       "    </tr>\n",
       "    <tr>\n",
       "      <th>Adé Hakim – what do i need to be commercial 4?</th>\n",
       "      <td>779.908737</td>\n",
       "      <td>790.080859</td>\n",
       "      <td>7.198048</td>\n",
       "      <td>188.597599</td>\n",
       "    </tr>\n",
       "    <tr>\n",
       "      <th>Booda French &amp; Jaisu – Fortune Cookie</th>\n",
       "      <td>818.855992</td>\n",
       "      <td>935.185593</td>\n",
       "      <td>3.982583</td>\n",
       "      <td>29.337839</td>\n",
       "    </tr>\n",
       "    <tr>\n",
       "      <th>Booda French &amp; Jaisu – Championship Rings featuring Jehst</th>\n",
       "      <td>741.866955</td>\n",
       "      <td>812.626777</td>\n",
       "      <td>5.559112</td>\n",
       "      <td>77.541657</td>\n",
       "    </tr>\n",
       "  </tbody>\n",
       "</table>\n",
       "</div>"
      ],
      "text/plain": [
       "                                                       centroid       spread  \\\n",
       "JPEGMAFIA – Free The Frail (feat. Helena Deland)    1151.328223  1400.576140   \n",
       "Noname – Dibby Bop Feat. Raury & Cam O'bi            813.039296   863.099160   \n",
       "Denzel Curry – Walkin                               1098.552952  1437.261678   \n",
       "Noname – Casked Pretty                               923.051036   831.996497   \n",
       "Noname – Self                                        731.728129   810.082647   \n",
       "Noname – Blackxploitation                            958.932786  1350.738093   \n",
       "JPEGMAFIA – PTSD                                    1460.567144  1414.577962   \n",
       "JPEGMAFIA – 1539 N. Calvert                          776.172090   883.643024   \n",
       "Run The Jewels – Close Your Eyes (And Count to ...  1076.196504  1276.074753   \n",
       "clipping. – Story 7                                 1728.963527  1503.860374   \n",
       "clipping. – La Mala Ordina (with The Rita) (fea...  1143.622370  1300.790668   \n",
       "Rural Internet – huh??                              1072.958463  1163.578642   \n",
       "Rural Internet – BRAINWORMS                         1211.833961  1644.033984   \n",
       "Bruiser Wolf – Use Me (I'm Dope) (prod. Raphy)       984.949539  1582.890907   \n",
       "Bruiser Wolf – Thank God ft. Apropos (prod. Raphy)   767.333982  1053.253392   \n",
       "Bruiser Wolf – Chess Move$ (prod. Raphy)             953.365488  1127.061161   \n",
       "JPEGMAFIA – REBOUND! (ft. DATPIFFMAFIA)             1254.547919  1265.830769   \n",
       "JPEGMAFIA – Williamsburg                            1241.061570  1085.039014   \n",
       "Bruiser Wolf – I'm A Instrument ft. Danny Brown...  1388.718598  1328.598824   \n",
       "Bruiser Wolf – Middle Men ft. Fat Ray (prod. Ra...   766.491126  1128.788507   \n",
       "Bruiser Wolf – Momma Was a Dopefiend ft. Apropo...   626.966828   690.145860   \n",
       "clipping. – Blood of the Fang                        823.427406  1140.605893   \n",
       "Adé Hakim – the man I want to be (and double)       1399.069640  1338.168499   \n",
       "Adé Hakim – professor hakim (6press would never)     824.400639   983.202039   \n",
       "Adé Hakim – hood rich up in the projects             812.541391   796.528428   \n",
       "Adé Hakim – what do i need to be commercial 4?       779.908737   790.080859   \n",
       "Booda French & Jaisu – Fortune Cookie                818.855992   935.185593   \n",
       "Booda French & Jaisu – Championship Rings featu...   741.866955   812.626777   \n",
       "\n",
       "                                                    skewness    kurtosis  \n",
       "JPEGMAFIA – Free The Frail (feat. Helena Deland)    3.991292   34.037649  \n",
       "Noname – Dibby Bop Feat. Raury & Cam O'bi           8.583391  244.944719  \n",
       "Denzel Curry – Walkin                               3.974136   30.944575  \n",
       "Noname – Casked Pretty                              5.321054   85.143668  \n",
       "Noname – Self                                       7.961078  153.699446  \n",
       "Noname – Blackxploitation                           4.214384   40.566667  \n",
       "JPEGMAFIA – PTSD                                    4.117518   53.091142  \n",
       "JPEGMAFIA – 1539 N. Calvert                         5.164384   66.164594  \n",
       "Run The Jewels – Close Your Eyes (And Count to ...  3.324950   21.080504  \n",
       "clipping. – Story 7                                 1.964701   10.906599  \n",
       "clipping. – La Mala Ordina (with The Rita) (fea...  3.234246   20.777999  \n",
       "Rural Internet – huh??                              3.802347   34.881112  \n",
       "Rural Internet – BRAINWORMS                         2.894566   16.369814  \n",
       "Bruiser Wolf – Use Me (I'm Dope) (prod. Raphy)      3.377914   22.341434  \n",
       "Bruiser Wolf – Thank God ft. Apropos (prod. Raphy)  3.813976   26.165323  \n",
       "Bruiser Wolf – Chess Move$ (prod. Raphy)            3.116136   20.584186  \n",
       "JPEGMAFIA – REBOUND! (ft. DATPIFFMAFIA)             5.114497   62.459028  \n",
       "JPEGMAFIA – Williamsburg                            3.999026  122.578743  \n",
       "Bruiser Wolf – I'm A Instrument ft. Danny Brown...  3.056751   24.584598  \n",
       "Bruiser Wolf – Middle Men ft. Fat Ray (prod. Ra...  3.755727   25.796319  \n",
       "Bruiser Wolf – Momma Was a Dopefiend ft. Apropo...  5.844397   73.005161  \n",
       "clipping. – Blood of the Fang                       4.137844   30.635945  \n",
       "Adé Hakim – the man I want to be (and double)       4.214014   47.410712  \n",
       "Adé Hakim – professor hakim (6press would never)    4.216324   33.744137  \n",
       "Adé Hakim – hood rich up in the projects            5.657060  100.448809  \n",
       "Adé Hakim – what do i need to be commercial 4?      7.198048  188.597599  \n",
       "Booda French & Jaisu – Fortune Cookie               3.982583   29.337839  \n",
       "Booda French & Jaisu – Championship Rings featu...  5.559112   77.541657  "
      ]
     },
     "execution_count": 7,
     "metadata": {},
     "output_type": "execute_result"
    }
   ],
   "source": [
    "feature_matrices = list()\n",
    "index_names = list()\n",
    "for dname, values in sorted_data.items():\n",
    "    feature_matrices.append([ s.data for s in values])\n",
    "    index_names.append([ f'{s.performer} – {s.title}' for s in values ])\n",
    "\n",
    "for i, fm in enumerate(feature_matrices):\n",
    "    feature_matrices[i] = np.vstack(fm)\n",
    "\n",
    "feature_dframes = [ pd.DataFrame(fm, index=im, columns=selected_features) for fm, im in zip(feature_matrices, index_names) ]\n",
    "feature_dframes[0]"
   ]
  },
  {
   "cell_type": "markdown",
   "id": "88529e71",
   "metadata": {},
   "source": [
    "# Training a groove SOM\n",
    "\n",
    "Now that the data has been filtered, aggregated and prepared a self-organising map can be trained."
   ]
  },
  {
   "cell_type": "markdown",
   "id": "18d36f82",
   "metadata": {},
   "source": [
    "## Settings"
   ]
  },
  {
   "cell_type": "code",
   "execution_count": 27,
   "id": "0c1cb41e",
   "metadata": {},
   "outputs": [],
   "source": [
    "neurons = (200, 200)\n",
    "n_iter = 1000\n",
    "eta = 0.1\n",
    "nhr = 7\n",
    "\n",
    "settings_str = f'{neurons[0]}x{neurons[1]}_{n_iter}_{eta}_{nhr}'"
   ]
  },
  {
   "cell_type": "markdown",
   "id": "59add100",
   "metadata": {},
   "source": [
    "## Importing additional modules\n",
    "\n",
    "To create a SOM an visualise the results some additional modules are required."
   ]
  },
  {
   "cell_type": "code",
   "execution_count": 28,
   "id": "00022d8c",
   "metadata": {},
   "outputs": [],
   "source": [
    "import matplotlib.pyplot as plt\n",
    "from apollon.som.som import *\n",
    "import apollon.som.utilities as asu\n",
    "import time\n",
    "from os import path, makedirs\n",
    "from __future__ import print_function\n",
    "from scipy import misc\n",
    "from lib.format import meshData, lableTable\n",
    "\n",
    "#import numpy as np\n",
    "#import pandas as pd"
   ]
  },
  {
   "cell_type": "markdown",
   "id": "90e77016",
   "metadata": {},
   "source": [
    "## Normalize each feature matrix"
   ]
  },
  {
   "cell_type": "code",
   "execution_count": 29,
   "id": "8e32edd3",
   "metadata": {},
   "outputs": [],
   "source": [
    "scaled_matrices = [ (fm - fm.mean(axis=0)) / fm.std(axis=0) \\\n",
    "                   for fm in feature_matrices ]"
   ]
  },
  {
   "cell_type": "markdown",
   "id": "6ed6cdc3",
   "metadata": {},
   "source": [
    "## Init the SOMs and train them"
   ]
  },
  {
   "cell_type": "code",
   "execution_count": null,
   "id": "84f14b8c",
   "metadata": {},
   "outputs": [
    {
     "name": "stdout",
     "output_type": "stream",
     "text": [
      "Training SOM 1 of 1...\n"
     ]
    }
   ],
   "source": [
    "som_list = list()\n",
    "\n",
    "for fm in scaled_matrices:\n",
    "    specific_dims = (neurons[0], neurons[1], fm.shape[1])\n",
    "    som_list.append(IncrementalMap(specific_dims, n_iter, eta, nhr))\n",
    "\n",
    "timestamp = str(int(time.time()))\n",
    "    \n",
    "for s, d in zip(som_list, scaled_matrices):\n",
    "    print(f'Training SOM {som_list.index(s)+1} of {len(som_list)}...')\n",
    "    %time s.fit(d)"
   ]
  },
  {
   "cell_type": "markdown",
   "id": "ff2fb210",
   "metadata": {},
   "source": [
    "## Visualize the trained networks\n",
    "\n",
    "All graphics will be saved to `./output/UNIXTIME/SOMINDEX_SETTINGS_PLOTNAME.pdf`. If the corresponding directory doesn't exist, it will be created."
   ]
  },
  {
   "cell_type": "code",
   "execution_count": 12,
   "id": "36641764",
   "metadata": {},
   "outputs": [],
   "source": [
    "save_path = f'./output/{timestamp}'\n",
    "\n",
    "if not path.exists(save_path):\n",
    "    makedirs(save_path)"
   ]
  },
  {
   "cell_type": "markdown",
   "id": "25f8475b",
   "metadata": {},
   "source": [
    "### Quantization error\n",
    "\n",
    "For each iteration plot the mean error (distance) of all data points and their respective best matching units."
   ]
  },
  {
   "cell_type": "code",
   "execution_count": 13,
   "id": "38bb44ef",
   "metadata": {},
   "outputs": [
    {
     "data": {
      "image/png": "[encoded data removed]",
      "text/plain": [
       "<Figure size 432x288 with 1 Axes>"
      ]
     },
     "metadata": {
      "needs_background": "light"
     },
     "output_type": "display_data"
    }
   ],
   "source": [
    "for s, d, i in zip(som_list, scaled_matrices, range(len(som_list))):\n",
    "    fig, ax = plt.subplots(1)\n",
    "    ax.set_xlabel('Number of iterations')\n",
    "    ax.set_ylabel('Mean error')\n",
    "    ax.plot(s.quantization_error)\n",
    "    \n",
    "    fig.savefig(f'{save_path}/{i+1}_{settings_str}_quantization_error.pdf')"
   ]
  },
  {
   "cell_type": "markdown",
   "id": "8cc3fef5",
   "metadata": {},
   "source": [
    "### u-Matrix\n",
    "\n",
    "Plots the u-Matrix for each SOM. Plots are saved alongside a matrix mesh. This is useful for visualization with pgfplots. A LaTeX table containing the lable IDs, performers, song titles, and durations is created as well. Note that this relies on a Python version of at least 3.7 as it relies on dictionaries preserving insertion order."
   ]
  },
  {
   "cell_type": "code",
   "execution_count": 22,
   "id": "ef3f85d4",
   "metadata": {},
   "outputs": [
    {
     "data": {
      "image/png": "[encoded data removed]",
      "text/plain": [
       "<Figure size 720x720 with 2 Axes>"
      ]
     },
     "metadata": {
      "needs_background": "light"
     },
     "output_type": "display_data"
    },
    {
     "data": {
      "image/png": "[encoded data removed]",
      "text/plain": [
       "<Figure size 720x720 with 1 Axes>"
      ]
     },
     "metadata": {
      "needs_background": "light"
     },
     "output_type": "display_data"
    }
   ],
   "source": [
    "for s, sm, d, i in zip(som_list, scaled_matrices, sorted_data.values(), range(len(som_list))):\n",
    "    um = s.umatrix()\n",
    "    fig, ax = plt.subplots(1, figsize=(10, 10))\n",
    "    ax.set_xlabel('units')\n",
    "    ax.set_ylabel('units')\n",
    "    umx = ax.imshow(um, cmap='terrain', origin='lower', vmin=0, vmax=1)\n",
    "    fig.colorbar(umx, ax=ax)\n",
    "\n",
    "    fig.savefig(f'{save_path}/{i+1}_{settings_str}_umatrix.pdf')\n",
    "    with open(f'{save_path}/{i+1}_{settings_str}_umatrix.dat', 'w') as f:\n",
    "        f.write(meshData(um))\n",
    "        \n",
    "    pos, err = asu.best_match(s.weights, sm, s.metric)\n",
    "    py, px = np.unravel_index(pos, s.shape)\n",
    "    fig, ax = plt.subplots(1, figsize=(10, 10))\n",
    "    ax.set_xlabel('units')\n",
    "    ax.set_ylabel('units')\n",
    "    ax.imshow(um, cmap='terrain', origin='lower', vmin=0, vmax=1);\n",
    "    ax.scatter(px, py, 100, 'r', 'x')\n",
    "    for item, x, y in zip(range(sm.shape[0]), px, py):\n",
    "        ax.text(x+.3, y, item+1)\n",
    "        \n",
    "    fig.savefig(f'{save_path}/{i+1}_{settings_str}_umatrix_lables.pdf')\n",
    "    with open(f'{save_path}/{i+1}_{settings_str}_lables.tex', 'w') as f:\n",
    "        f.write(lableTable(d))\n",
    "    \n",
    "    "
   ]
  },
  {
   "cell_type": "code",
   "execution_count": 26,
   "id": "8110b6d4",
   "metadata": {},
   "outputs": [
    {
     "data": {
      "image/png": "[encoded data removed]",
      "text/plain": [
       "<Figure size 720x720 with 4 Axes>"
      ]
     },
     "metadata": {
      "needs_background": "light"
     },
     "output_type": "display_data"
    }
   ],
   "source": [
    "for s, sm, df, i in zip(som_list, scaled_matrices, feature_dframes, range(len(som_list))):\n",
    "    fig, axs = plt.subplots(2, 2, figsize=(10, 10))\n",
    "    for j, (feat, ax) in enumerate(zip(df.columns, axs.flat)):\n",
    "        ax.set_title(feat)\n",
    "        ax.imshow(s.weights[:, j].reshape(s.shape), origin='lower')\n",
    "        for item, x, y in zip(range(sm.shape[0]), px, py):\n",
    "            ax.text(x+.3, y, item+1)\n",
    "            \n",
    "    fig.savefig(f'{save_path}/{i+1}_{settings_str}_features.pdf')"
   ]
  }
 ],
 "metadata": {
  "kernelspec": {
   "display_name": "Python 3 (ipykernel)",
   "language": "python",
   "name": "python3"
  },
  "language_info": {
   "codemirror_mode": {
    "name": "ipython",
    "version": 3
   },
   "file_extension": ".py",
   "mimetype": "text/x-python",
   "name": "python",
   "nbconvert_exporter": "python",
   "pygments_lexer": "ipython3",
   "version": "3.9.7"
  }
 },
 "nbformat": 4,
 "nbformat_minor": 5
}
